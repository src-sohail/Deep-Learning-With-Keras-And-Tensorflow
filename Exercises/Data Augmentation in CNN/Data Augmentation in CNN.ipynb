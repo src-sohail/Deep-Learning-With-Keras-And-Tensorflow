{
 "cells": [
  {
   "cell_type": "code",
   "execution_count": 1,
   "metadata": {},
   "outputs": [],
   "source": [
    "import matplotlib.pyplot as plt\r\n",
    "import numpy as np\r\n",
    "import cv2\r\n",
    "import os\r\n",
    "import PIL\r\n",
    "import tensorflow as tf\r\n",
    "\r\n",
    "from tensorflow import keras\r\n",
    "from tensorflow.keras import layers\r\n",
    "from tensorflow.keras.models import Sequential\r\n"
   ]
  },
  {
   "cell_type": "code",
   "execution_count": 2,
   "metadata": {},
   "outputs": [
    {
     "name": "stdout",
     "output_type": "stream",
     "text": [
      "Downloading data from https://storage.googleapis.com/download.tensorflow.org/example_images/flower_photos.tgz\n",
      "228818944/228813984 [==============================] - 199s 1us/step\n"
     ]
    }
   ],
   "source": [
    "dataset_url = \"https://storage.googleapis.com/download.tensorflow.org/example_images/flower_photos.tgz\"\r\n",
    "data_dir = tf.keras.utils.get_file('flower_photos', origin=dataset_url,  cache_dir='.', untar=True)\r\n",
    "# cache_dir indicates where to download data. I specified . which means current directory\r\n",
    "# untar true will unzip it\r\n"
   ]
  },
  {
   "cell_type": "code",
   "execution_count": 3,
   "metadata": {},
   "outputs": [
    {
     "data": {
      "text/plain": [
       "WindowsPath('datasets/flower_photos')"
      ]
     },
     "execution_count": 3,
     "metadata": {},
     "output_type": "execute_result"
    }
   ],
   "source": [
    "import pathlib\r\n",
    "data_dir = pathlib.Path(data_dir)\r\n",
    "data_dir"
   ]
  },
  {
   "cell_type": "code",
   "execution_count": 4,
   "metadata": {},
   "outputs": [
    {
     "data": {
      "text/plain": [
       "[WindowsPath('datasets/flower_photos/daisy/100080576_f52e8ee070_n.jpg'),\n",
       " WindowsPath('datasets/flower_photos/daisy/10140303196_b88d3d6cec.jpg'),\n",
       " WindowsPath('datasets/flower_photos/daisy/10172379554_b296050f82_n.jpg'),\n",
       " WindowsPath('datasets/flower_photos/daisy/10172567486_2748826a8b.jpg'),\n",
       " WindowsPath('datasets/flower_photos/daisy/10172636503_21bededa75_n.jpg')]"
      ]
     },
     "execution_count": 4,
     "metadata": {},
     "output_type": "execute_result"
    }
   ],
   "source": [
    "list(data_dir.glob('*/*.jpg'))[:5]\r\n"
   ]
  },
  {
   "cell_type": "code",
   "execution_count": 5,
   "metadata": {},
   "outputs": [
    {
     "name": "stdout",
     "output_type": "stream",
     "text": [
      "3670\n"
     ]
    }
   ],
   "source": [
    "image_count = len(list(data_dir.glob('*/*.jpg')))\r\n",
    "print(image_count)"
   ]
  },
  {
   "cell_type": "code",
   "execution_count": 6,
   "metadata": {},
   "outputs": [
    {
     "data": {
      "text/plain": [
       "[WindowsPath('datasets/flower_photos/roses/10090824183_d02c613f10_m.jpg'),\n",
       " WindowsPath('datasets/flower_photos/roses/102501987_3cdb8e5394_n.jpg'),\n",
       " WindowsPath('datasets/flower_photos/roses/10503217854_e66a804309.jpg'),\n",
       " WindowsPath('datasets/flower_photos/roses/10894627425_ec76bbc757_n.jpg'),\n",
       " WindowsPath('datasets/flower_photos/roses/110472418_87b6a3aa98_m.jpg')]"
      ]
     },
     "execution_count": 6,
     "metadata": {},
     "output_type": "execute_result"
    }
   ],
   "source": [
    "roses = list(data_dir.glob('roses/*'))\r\n",
    "roses[:5]"
   ]
  },
  {
   "cell_type": "code",
   "execution_count": 7,
   "metadata": {},
   "outputs": [],
   "source": [
    "flowers_images_dict = {\r\n",
    "    'roses': list(data_dir.glob('roses/*')),\r\n",
    "    'daisy': list(data_dir.glob('daisy/*')),\r\n",
    "    'dandelion': list(data_dir.glob('dandelion/*')),\r\n",
    "    'sunflowers': list(data_dir.glob('sunflowers/*')),\r\n",
    "    'tulips': list(data_dir.glob('tulips/*')),\r\n",
    "}"
   ]
  },
  {
   "cell_type": "code",
   "execution_count": 8,
   "metadata": {},
   "outputs": [],
   "source": [
    "flowers_labels_dict = {\r\n",
    "    'roses': 0,\r\n",
    "    'daisy': 1,\r\n",
    "    'dandelion': 2,\r\n",
    "    'sunflowers': 3,\r\n",
    "    'tulips': 4,\r\n",
    "}"
   ]
  },
  {
   "cell_type": "code",
   "execution_count": 9,
   "metadata": {},
   "outputs": [
    {
     "data": {
      "text/plain": [
       "[WindowsPath('datasets/flower_photos/roses/10090824183_d02c613f10_m.jpg'),\n",
       " WindowsPath('datasets/flower_photos/roses/102501987_3cdb8e5394_n.jpg'),\n",
       " WindowsPath('datasets/flower_photos/roses/10503217854_e66a804309.jpg'),\n",
       " WindowsPath('datasets/flower_photos/roses/10894627425_ec76bbc757_n.jpg'),\n",
       " WindowsPath('datasets/flower_photos/roses/110472418_87b6a3aa98_m.jpg')]"
      ]
     },
     "execution_count": 9,
     "metadata": {},
     "output_type": "execute_result"
    }
   ],
   "source": [
    "flowers_images_dict['roses'][:5]"
   ]
  },
  {
   "cell_type": "code",
   "execution_count": 10,
   "metadata": {},
   "outputs": [
    {
     "data": {
      "text/plain": [
       "'datasets\\\\flower_photos\\\\roses\\\\10090824183_d02c613f10_m.jpg'"
      ]
     },
     "execution_count": 10,
     "metadata": {},
     "output_type": "execute_result"
    }
   ],
   "source": [
    "str(flowers_images_dict['roses'][0])"
   ]
  },
  {
   "cell_type": "code",
   "execution_count": 11,
   "metadata": {},
   "outputs": [],
   "source": [
    "img = cv2.imread(str(flowers_images_dict['roses'][0]))"
   ]
  },
  {
   "cell_type": "code",
   "execution_count": 12,
   "metadata": {},
   "outputs": [
    {
     "data": {
      "text/plain": [
       "(180, 180, 3)"
      ]
     },
     "execution_count": 12,
     "metadata": {},
     "output_type": "execute_result"
    }
   ],
   "source": [
    "cv2.resize(img, (180, 180)).shape"
   ]
  },
  {
   "cell_type": "code",
   "execution_count": 13,
   "metadata": {},
   "outputs": [],
   "source": [
    "X, y = [], []\r\n",
    "\r\n",
    "for flower_name, images in flowers_images_dict.items():\r\n",
    "    for image in images:\r\n",
    "        img = cv2.imread(str(image))\r\n",
    "        resized_img = cv2.resize(img, (180, 180))\r\n",
    "        X.append(resized_img)\r\n",
    "        y.append(flowers_labels_dict[flower_name])\r\n"
   ]
  },
  {
   "cell_type": "code",
   "execution_count": 14,
   "metadata": {},
   "outputs": [],
   "source": [
    "X = np.array(X)\r\n",
    "y = np.array(y)"
   ]
  },
  {
   "cell_type": "code",
   "execution_count": 15,
   "metadata": {},
   "outputs": [],
   "source": [
    "from sklearn.model_selection import train_test_split\r\n",
    "X_train, X_test, y_train, y_test = train_test_split(X, y, random_state=0)"
   ]
  },
  {
   "cell_type": "code",
   "execution_count": 16,
   "metadata": {},
   "outputs": [],
   "source": [
    "X_train_scaled = X_train / 255\r\n",
    "X_test_scaled = X_test / 255\r\n"
   ]
  },
  {
   "cell_type": "code",
   "execution_count": 17,
   "metadata": {},
   "outputs": [
    {
     "name": "stdout",
     "output_type": "stream",
     "text": [
      "Epoch 1/30\n",
      "86/86 [==============================] - 26s 277ms/step - loss: 1.3546 - accuracy: 0.4186\n",
      "Epoch 2/30\n",
      "86/86 [==============================] - 24s 275ms/step - loss: 1.0228 - accuracy: 0.5945\n",
      "Epoch 3/30\n",
      "86/86 [==============================] - 23s 271ms/step - loss: 0.8551 - accuracy: 0.6621\n",
      "Epoch 4/30\n",
      "86/86 [==============================] - 23s 272ms/step - loss: 0.6686 - accuracy: 0.7551\n",
      "Epoch 5/30\n",
      "86/86 [==============================] - 23s 272ms/step - loss: 0.4924 - accuracy: 0.8219\n",
      "Epoch 6/30\n",
      "86/86 [==============================] - 24s 275ms/step - loss: 0.2904 - accuracy: 0.9041\n",
      "Epoch 7/30\n",
      "86/86 [==============================] - 24s 275ms/step - loss: 0.1553 - accuracy: 0.9531\n",
      "Epoch 8/30\n",
      "86/86 [==============================] - 24s 276ms/step - loss: 0.0899 - accuracy: 0.9742\n",
      "Epoch 9/30\n",
      "86/86 [==============================] - 24s 276ms/step - loss: 0.0557 - accuracy: 0.9847\n",
      "Epoch 10/30\n",
      "86/86 [==============================] - 24s 279ms/step - loss: 0.0440 - accuracy: 0.9873\n",
      "Epoch 11/30\n",
      "86/86 [==============================] - 24s 275ms/step - loss: 0.0874 - accuracy: 0.9764\n",
      "Epoch 12/30\n",
      "86/86 [==============================] - 24s 276ms/step - loss: 0.0430 - accuracy: 0.9902\n",
      "Epoch 13/30\n",
      "86/86 [==============================] - 24s 277ms/step - loss: 0.0112 - accuracy: 0.9989\n",
      "Epoch 14/30\n",
      "86/86 [==============================] - 24s 277ms/step - loss: 0.0099 - accuracy: 0.9993\n",
      "Epoch 15/30\n",
      "86/86 [==============================] - 24s 277ms/step - loss: 0.0089 - accuracy: 0.9993\n",
      "Epoch 16/30\n",
      "86/86 [==============================] - 24s 277ms/step - loss: 0.0054 - accuracy: 0.9996\n",
      "Epoch 17/30\n",
      "86/86 [==============================] - 24s 274ms/step - loss: 0.0040 - accuracy: 0.9996\n",
      "Epoch 18/30\n",
      "86/86 [==============================] - 23s 271ms/step - loss: 0.0067 - accuracy: 0.9993\n",
      "Epoch 19/30\n",
      "86/86 [==============================] - 23s 273ms/step - loss: 0.0037 - accuracy: 0.9996\n",
      "Epoch 20/30\n",
      "86/86 [==============================] - 23s 271ms/step - loss: 0.0070 - accuracy: 0.9993\n",
      "Epoch 21/30\n",
      "86/86 [==============================] - 24s 273ms/step - loss: 0.0033 - accuracy: 0.9996\n",
      "Epoch 22/30\n",
      "86/86 [==============================] - 24s 274ms/step - loss: 0.0057 - accuracy: 0.9993\n",
      "Epoch 23/30\n",
      "86/86 [==============================] - 24s 274ms/step - loss: 0.0055 - accuracy: 0.9993\n",
      "Epoch 24/30\n",
      "86/86 [==============================] - 24s 273ms/step - loss: 0.0052 - accuracy: 0.9993\n",
      "Epoch 25/30\n",
      "86/86 [==============================] - 24s 274ms/step - loss: 0.0028 - accuracy: 0.9996\n",
      "Epoch 26/30\n",
      "86/86 [==============================] - 23s 273ms/step - loss: 0.0034 - accuracy: 0.9996\n",
      "Epoch 27/30\n",
      "86/86 [==============================] - 24s 274ms/step - loss: 0.0046 - accuracy: 0.9993\n",
      "Epoch 28/30\n",
      "86/86 [==============================] - 24s 275ms/step - loss: 0.0026 - accuracy: 0.9996\n",
      "Epoch 29/30\n",
      "86/86 [==============================] - 24s 274ms/step - loss: 0.0046 - accuracy: 0.9993\n",
      "Epoch 30/30\n",
      "86/86 [==============================] - 24s 274ms/step - loss: 0.0021 - accuracy: 0.9996\n"
     ]
    },
    {
     "data": {
      "text/plain": [
       "<tensorflow.python.keras.callbacks.History at 0x1e2f19b5c10>"
      ]
     },
     "execution_count": 17,
     "metadata": {},
     "output_type": "execute_result"
    }
   ],
   "source": [
    "num_classes = 5\r\n",
    "\r\n",
    "model = Sequential([\r\n",
    "    layers.Conv2D(16, 3, padding='same', activation='relu'),\r\n",
    "    layers.MaxPooling2D(),\r\n",
    "    layers.Conv2D(32, 3, padding='same', activation='relu'),\r\n",
    "    layers.MaxPooling2D(),\r\n",
    "    layers.Conv2D(64, 3, padding='same', activation='relu'),\r\n",
    "    layers.MaxPooling2D(),\r\n",
    "    layers.Flatten(),\r\n",
    "    layers.Dense(128, activation='relu'),\r\n",
    "    layers.Dense(num_classes)\r\n",
    "])\r\n",
    "\r\n",
    "model.compile(optimizer='adam',\r\n",
    "              loss=tf.keras.losses.SparseCategoricalCrossentropy(\r\n",
    "                  from_logits=True),\r\n",
    "              metrics=['accuracy'])\r\n",
    "\r\n",
    "model.fit(X_train_scaled, y_train, epochs=30)\r\n"
   ]
  },
  {
   "cell_type": "code",
   "execution_count": 18,
   "metadata": {},
   "outputs": [
    {
     "name": "stdout",
     "output_type": "stream",
     "text": [
      "29/29 [==============================] - 2s 71ms/step - loss: 2.4147 - accuracy: 0.6307\n"
     ]
    },
    {
     "data": {
      "text/plain": [
       "[2.4146652221679688, 0.6307189464569092]"
      ]
     },
     "execution_count": 18,
     "metadata": {},
     "output_type": "execute_result"
    }
   ],
   "source": [
    "model.evaluate(X_test_scaled, y_test)\r\n"
   ]
  },
  {
   "cell_type": "markdown",
   "metadata": {},
   "source": [
    "Improve Test Accuracy Using Data Augmentation\r\n"
   ]
  },
  {
   "cell_type": "code",
   "execution_count": 20,
   "metadata": {},
   "outputs": [],
   "source": [
    "data_augmentation = keras.Sequential(\r\n",
    "    [\r\n",
    "        layers.experimental.preprocessing.RandomRotation(0.1),\r\n",
    "        layers.experimental.preprocessing.RandomZoom(0.1),\r\n",
    "    ]\r\n",
    ")\r\n"
   ]
  },
  {
   "cell_type": "markdown",
   "metadata": {},
   "source": [
    "Train the model using data augmentation and a drop out layer\r\n"
   ]
  },
  {
   "cell_type": "code",
   "execution_count": 21,
   "metadata": {},
   "outputs": [
    {
     "name": "stdout",
     "output_type": "stream",
     "text": [
      "Epoch 1/30\n",
      "86/86 [==============================] - 28s 315ms/step - loss: 1.3494 - accuracy: 0.3939\n",
      "Epoch 2/30\n",
      "86/86 [==============================] - 27s 316ms/step - loss: 1.0257 - accuracy: 0.5876\n",
      "Epoch 3/30\n",
      "86/86 [==============================] - 27s 316ms/step - loss: 0.9361 - accuracy: 0.6272\n",
      "Epoch 4/30\n",
      "86/86 [==============================] - 27s 315ms/step - loss: 0.8496 - accuracy: 0.6715\n",
      "Epoch 5/30\n",
      "86/86 [==============================] - 27s 316ms/step - loss: 0.7798 - accuracy: 0.7042\n",
      "Epoch 6/30\n",
      "86/86 [==============================] - 27s 315ms/step - loss: 0.7436 - accuracy: 0.7238\n",
      "Epoch 7/30\n",
      "86/86 [==============================] - 27s 316ms/step - loss: 0.6837 - accuracy: 0.7373\n",
      "Epoch 8/30\n",
      "86/86 [==============================] - 27s 317ms/step - loss: 0.6433 - accuracy: 0.7536\n",
      "Epoch 9/30\n",
      "86/86 [==============================] - 27s 316ms/step - loss: 0.6045 - accuracy: 0.7762\n",
      "Epoch 10/30\n",
      "86/86 [==============================] - 27s 316ms/step - loss: 0.5655 - accuracy: 0.7849\n",
      "Epoch 11/30\n",
      "86/86 [==============================] - 27s 316ms/step - loss: 0.5339 - accuracy: 0.7980\n",
      "Epoch 12/30\n",
      "86/86 [==============================] - 27s 314ms/step - loss: 0.5002 - accuracy: 0.8161\n",
      "Epoch 13/30\n",
      "86/86 [==============================] - 27s 314ms/step - loss: 0.4351 - accuracy: 0.8427\n",
      "Epoch 14/30\n",
      "86/86 [==============================] - 27s 314ms/step - loss: 0.4149 - accuracy: 0.8528\n",
      "Epoch 15/30\n",
      "86/86 [==============================] - 27s 314ms/step - loss: 0.4125 - accuracy: 0.8583\n",
      "Epoch 16/30\n",
      "86/86 [==============================] - 27s 315ms/step - loss: 0.4008 - accuracy: 0.8507\n",
      "Epoch 17/30\n",
      "86/86 [==============================] - 27s 315ms/step - loss: 0.3626 - accuracy: 0.8699\n",
      "Epoch 18/30\n",
      "86/86 [==============================] - 27s 315ms/step - loss: 0.3086 - accuracy: 0.8863\n",
      "Epoch 19/30\n",
      "86/86 [==============================] - 27s 314ms/step - loss: 0.3065 - accuracy: 0.8924\n",
      "Epoch 20/30\n",
      "86/86 [==============================] - 27s 314ms/step - loss: 0.2774 - accuracy: 0.9023\n",
      "Epoch 21/30\n",
      "86/86 [==============================] - 27s 318ms/step - loss: 0.2615 - accuracy: 0.9073\n",
      "Epoch 22/30\n",
      "86/86 [==============================] - 27s 315ms/step - loss: 0.2355 - accuracy: 0.9211\n",
      "Epoch 23/30\n",
      "86/86 [==============================] - 27s 314ms/step - loss: 0.2283 - accuracy: 0.9193\n",
      "Epoch 24/30\n",
      "86/86 [==============================] - 27s 315ms/step - loss: 0.2257 - accuracy: 0.9197\n",
      "Epoch 25/30\n",
      "86/86 [==============================] - 27s 315ms/step - loss: 0.2122 - accuracy: 0.9273\n",
      "Epoch 26/30\n",
      "86/86 [==============================] - 27s 315ms/step - loss: 0.1532 - accuracy: 0.9469\n",
      "Epoch 27/30\n",
      "86/86 [==============================] - 27s 314ms/step - loss: 0.1771 - accuracy: 0.9357\n",
      "Epoch 28/30\n",
      "86/86 [==============================] - 27s 315ms/step - loss: 0.1674 - accuracy: 0.9419\n",
      "Epoch 29/30\n",
      "86/86 [==============================] - 27s 315ms/step - loss: 0.1678 - accuracy: 0.9430\n",
      "Epoch 30/30\n",
      "86/86 [==============================] - 27s 315ms/step - loss: 0.1249 - accuracy: 0.9600\n"
     ]
    },
    {
     "data": {
      "text/plain": [
       "<tensorflow.python.keras.callbacks.History at 0x1e339a1fd60>"
      ]
     },
     "execution_count": 21,
     "metadata": {},
     "output_type": "execute_result"
    }
   ],
   "source": [
    "num_classes = 5\r\n",
    "\r\n",
    "model = Sequential([\r\n",
    "    data_augmentation,\r\n",
    "    layers.Conv2D(16, 3, padding='same', activation='relu'),\r\n",
    "    layers.MaxPooling2D(),\r\n",
    "    layers.Conv2D(32, 3, padding='same', activation='relu'),\r\n",
    "    layers.MaxPooling2D(),\r\n",
    "    layers.Conv2D(64, 3, padding='same', activation='relu'),\r\n",
    "    layers.MaxPooling2D(),\r\n",
    "    layers.Dropout(0.2),\r\n",
    "    layers.Flatten(),\r\n",
    "    layers.Dense(128, activation='relu'),\r\n",
    "    layers.Dense(num_classes)\r\n",
    "])\r\n",
    "\r\n",
    "model.compile(optimizer='adam',\r\n",
    "              loss=tf.keras.losses.SparseCategoricalCrossentropy(\r\n",
    "                  from_logits=True),\r\n",
    "              metrics=['accuracy'])\r\n",
    "\r\n",
    "model.fit(X_train_scaled, y_train, epochs=30)\r\n"
   ]
  },
  {
   "cell_type": "code",
   "execution_count": 22,
   "metadata": {},
   "outputs": [
    {
     "name": "stdout",
     "output_type": "stream",
     "text": [
      "29/29 [==============================] - 2s 70ms/step - loss: 1.1854 - accuracy: 0.7407\n"
     ]
    },
    {
     "data": {
      "text/plain": [
       "[1.185433268547058, 0.7407407164573669]"
      ]
     },
     "execution_count": 22,
     "metadata": {},
     "output_type": "execute_result"
    }
   ],
   "source": [
    "model.evaluate(X_test_scaled, y_test)\r\n"
   ]
  }
 ],
 "metadata": {
  "interpreter": {
   "hash": "e94dd2023f21a93510fb04e380baf504272aa09c40641b7e8c2a7346f5fbf161"
  },
  "kernelspec": {
   "display_name": "Python 3.9.5 64-bit",
   "name": "python3"
  },
  "language_info": {
   "codemirror_mode": {
    "name": "ipython",
    "version": 3
   },
   "file_extension": ".py",
   "mimetype": "text/x-python",
   "name": "python",
   "nbconvert_exporter": "python",
   "pygments_lexer": "ipython3",
   "version": "3.9.5"
  },
  "orig_nbformat": 4
 },
 "nbformat": 4,
 "nbformat_minor": 2
}
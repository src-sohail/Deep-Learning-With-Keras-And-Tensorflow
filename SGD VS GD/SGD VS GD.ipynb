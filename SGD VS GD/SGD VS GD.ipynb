{
 "cells": [
  {
   "cell_type": "markdown",
   "metadata": {},
   "source": [
    "                                     Implementation of stochastic and batch grandient descent in python\r\n",
    "\r\n",
    "We will use very simple home prices data set to implement batch and stochastic gradient descent in python. Batch gradient descent uses all training samples in forward pass to calculate cumulitive error and than we adjust weights using derivaties. In stochastic GD, we randomly pick one training sample, perform forward pass, compute the error and immidiately adjust weights. So the key difference here is that to adjust weights batch GD will use all training samples where as stochastic GD will use one randomly picked training sample\r\n"
   ]
  },
  {
   "cell_type": "code",
   "execution_count": 2,
   "metadata": {},
   "outputs": [],
   "source": [
    "import pandas as pd\r\n",
    "import numpy as np\r\n",
    "from matplotlib import pyplot as plt\r\n",
    "%matplotlib inline"
   ]
  },
  {
   "cell_type": "code",
   "execution_count": 3,
   "metadata": {},
   "outputs": [
    {
     "data": {
      "text/html": [
       "<div>\n",
       "<style scoped>\n",
       "    .dataframe tbody tr th:only-of-type {\n",
       "        vertical-align: middle;\n",
       "    }\n",
       "\n",
       "    .dataframe tbody tr th {\n",
       "        vertical-align: top;\n",
       "    }\n",
       "\n",
       "    .dataframe thead th {\n",
       "        text-align: right;\n",
       "    }\n",
       "</style>\n",
       "<table border=\"1\" class=\"dataframe\">\n",
       "  <thead>\n",
       "    <tr style=\"text-align: right;\">\n",
       "      <th></th>\n",
       "      <th>area</th>\n",
       "      <th>bedrooms</th>\n",
       "      <th>price</th>\n",
       "    </tr>\n",
       "  </thead>\n",
       "  <tbody>\n",
       "    <tr>\n",
       "      <th>8</th>\n",
       "      <td>1310</td>\n",
       "      <td>3</td>\n",
       "      <td>50.00</td>\n",
       "    </tr>\n",
       "    <tr>\n",
       "      <th>19</th>\n",
       "      <td>800</td>\n",
       "      <td>1</td>\n",
       "      <td>32.00</td>\n",
       "    </tr>\n",
       "    <tr>\n",
       "      <th>0</th>\n",
       "      <td>1056</td>\n",
       "      <td>2</td>\n",
       "      <td>39.07</td>\n",
       "    </tr>\n",
       "    <tr>\n",
       "      <th>18</th>\n",
       "      <td>2770</td>\n",
       "      <td>3</td>\n",
       "      <td>102.00</td>\n",
       "    </tr>\n",
       "    <tr>\n",
       "      <th>10</th>\n",
       "      <td>1800</td>\n",
       "      <td>3</td>\n",
       "      <td>82.00</td>\n",
       "    </tr>\n",
       "  </tbody>\n",
       "</table>\n",
       "</div>"
      ],
      "text/plain": [
       "    area  bedrooms   price\n",
       "8   1310         3   50.00\n",
       "19   800         1   32.00\n",
       "0   1056         2   39.07\n",
       "18  2770         3  102.00\n",
       "10  1800         3   82.00"
      ]
     },
     "execution_count": 3,
     "metadata": {},
     "output_type": "execute_result"
    }
   ],
   "source": [
    "df = pd.read_csv(\"homeprices_banglore.csv\")\r\n",
    "df.sample(5)"
   ]
  },
  {
   "cell_type": "code",
   "execution_count": 6,
   "metadata": {},
   "outputs": [
    {
     "data": {
      "text/plain": [
       "array([[0.08827586, 0.25      ],\n",
       "       [0.62068966, 0.75      ],\n",
       "       [0.22068966, 0.5       ],\n",
       "       [0.24862069, 0.5       ],\n",
       "       [0.13793103, 0.25      ],\n",
       "       [0.12758621, 0.25      ],\n",
       "       [0.6662069 , 0.75      ],\n",
       "       [0.86206897, 0.75      ],\n",
       "       [0.17586207, 0.5       ],\n",
       "       [1.        , 1.        ],\n",
       "       [0.34482759, 0.5       ],\n",
       "       [0.68448276, 0.75      ],\n",
       "       [0.06896552, 0.25      ],\n",
       "       [0.10344828, 0.25      ],\n",
       "       [0.5       , 0.5       ],\n",
       "       [0.12931034, 0.25      ],\n",
       "       [0.13103448, 0.5       ],\n",
       "       [0.25517241, 0.5       ],\n",
       "       [0.67931034, 0.5       ],\n",
       "       [0.        , 0.        ]])"
      ]
     },
     "execution_count": 6,
     "metadata": {},
     "output_type": "execute_result"
    }
   ],
   "source": [
    "from sklearn import preprocessing\r\n",
    "sx = preprocessing.MinMaxScaler()\r\n",
    "sy = preprocessing.MinMaxScaler()\r\n",
    "\r\n",
    "scaled_X = sx.fit_transform(df.drop('price', axis = 'columns'))\r\n",
    "scaled_y = sy.fit_transform(df['price'].values.reshape(df.shape[0], 1))\r\n",
    "\r\n",
    "scaled_X\r\n"
   ]
  },
  {
   "cell_type": "markdown",
   "metadata": {},
   "source": [
    "We should convert target column(i.e. price) into one dimensional array. It has become 2D due to scaling that we did above but now we should change to 1D\r\n"
   ]
  },
  {
   "cell_type": "code",
   "execution_count": 7,
   "metadata": {},
   "outputs": [
    {
     "data": {
      "text/plain": [
       "array([0.05237037, 0.65185185, 0.22222222, 0.31851852, 0.14074074,\n",
       "       0.04444444, 0.76296296, 0.91111111, 0.13333333, 1.        ,\n",
       "       0.37037037, 0.8       , 0.04444444, 0.05925926, 0.51111111,\n",
       "       0.07407407, 0.11851852, 0.20740741, 0.51851852, 0.        ])"
      ]
     },
     "execution_count": 7,
     "metadata": {},
     "output_type": "execute_result"
    }
   ],
   "source": [
    "scaled_y.reshape(20,)"
   ]
  },
  {
   "cell_type": "markdown",
   "metadata": {},
   "source": [
    "Now is the time to implement batch gradient descent.\r\n"
   ]
  },
  {
   "cell_type": "code",
   "execution_count": 8,
   "metadata": {},
   "outputs": [
    {
     "data": {
      "text/plain": [
       "(array([0.70712464, 0.67456527]), -0.23034857438407427, 0.0068641890429808105)"
      ]
     },
     "execution_count": 8,
     "metadata": {},
     "output_type": "execute_result"
    }
   ],
   "source": [
    "def batch_gradient_descent(X, y_true, epochs, learning_rate = 0.01):\r\n",
    "    \r\n",
    "    number_of_features = X.shape[1]\r\n",
    "    # numpy array with 1 row and columns equal to number of features. In \r\n",
    "    # our case number_of_features = 2 (area, bedroom)\r\n",
    "    w = np.ones(shape=(number_of_features)) \r\n",
    "    b = 0\r\n",
    "    total_samples = X.shape[0] # number of rows in X\r\n",
    "    \r\n",
    "    cost_list = []\r\n",
    "    epoch_list = []\r\n",
    "    \r\n",
    "    for i in range(epochs):        \r\n",
    "        y_predicted = np.dot(w, X.T) + b\r\n",
    "\r\n",
    "        w_grad = -(2/total_samples)*(X.T.dot(y_true-y_predicted))\r\n",
    "        b_grad = -(2/total_samples)*np.sum(y_true-y_predicted)\r\n",
    "        \r\n",
    "        w = w - learning_rate * w_grad\r\n",
    "        b = b - learning_rate * b_grad\r\n",
    "        \r\n",
    "        cost = np.mean(np.square(y_true-y_predicted)) # MSE (Mean Squared Error)\r\n",
    "        \r\n",
    "        if i%10==0:\r\n",
    "            cost_list.append(cost)\r\n",
    "            epoch_list.append(i)\r\n",
    "        \r\n",
    "    return w, b, cost, cost_list, epoch_list\r\n",
    "\r\n",
    "w, b, cost, cost_list, epoch_list = batch_gradient_descent(scaled_X,scaled_y.reshape(scaled_y.shape[0],),500)\r\n",
    "w, b, cost"
   ]
  },
  {
   "cell_type": "markdown",
   "metadata": {},
   "source": [
    "Now plot epoch vs cost graph to see how cost reduces as number of epoch increases"
   ]
  },
  {
   "cell_type": "code",
   "execution_count": 9,
   "metadata": {},
   "outputs": [
    {
     "data": {
      "text/plain": [
       "[<matplotlib.lines.Line2D at 0x1db018e83d0>]"
      ]
     },
     "execution_count": 9,
     "metadata": {},
     "output_type": "execute_result"
    },
    {
     "data": {
      "image/png": "[encoded data removed]",
      "text/plain": [
       "<Figure size 432x288 with 1 Axes>"
      ]
     },
     "metadata": {
      "needs_background": "light"
     },
     "output_type": "display_data"
    }
   ],
   "source": [
    "plt.xlabel('epoch')\r\n",
    "plt.ylabel('loss')\r\n",
    "plt.plot(epoch_list,cost_list)"
   ]
  },
  {
   "cell_type": "markdown",
   "metadata": {},
   "source": [
    "                                                   Stochastic Gradient Descent Implementation\r\n",
    "Stochastic GD will use randomly picked single training sample to calculate error and using this error we backpropage to adjust weights\r\n"
   ]
  },
  {
   "cell_type": "code",
   "execution_count": 10,
   "metadata": {},
   "outputs": [
    {
     "data": {
      "text/plain": [
       "0"
      ]
     },
     "execution_count": 10,
     "metadata": {},
     "output_type": "execute_result"
    }
   ],
   "source": [
    "# we will use random libary to pick random training sample.\r\n",
    "import random\r\n",
    "# randit gives random number between two numbers specified in the argument\r\n",
    "random.randint(0, 6)"
   ]
  },
  {
   "cell_type": "code",
   "execution_count": 15,
   "metadata": {},
   "outputs": [
    {
     "data": {
      "text/plain": [
       "(array([0.70666603, 0.67493281]), -0.23339490787974368, 0.05458229302795692)"
      ]
     },
     "execution_count": 15,
     "metadata": {},
     "output_type": "execute_result"
    }
   ],
   "source": [
    "def stochastic_gradient_descent(X, y_true, epochs, learning_rate = 0.01):\r\n",
    "     \r\n",
    "    number_of_features = X.shape[1]\r\n",
    "    # numpy array with 1 row and columns equal to number of features. In \r\n",
    "    # our case number_of_features = 3 (area, bedroom and age)\r\n",
    "    w = np.ones(shape=(number_of_features)) \r\n",
    "    b = 0\r\n",
    "    total_samples = X.shape[0]\r\n",
    "    \r\n",
    "    cost_list = []\r\n",
    "    epoch_list = []\r\n",
    "    \r\n",
    "    for i in range(epochs):    \r\n",
    "        random_index = random.randint(0,total_samples-1) # random index from total samples\r\n",
    "        sample_x = X[random_index]\r\n",
    "        sample_y = y_true[random_index]\r\n",
    "        \r\n",
    "        y_predicted = np.dot(w, sample_x.T) + b\r\n",
    "    \r\n",
    "        w_grad = -(2/total_samples)*(sample_x.T.dot(sample_y-y_predicted))\r\n",
    "        b_grad = -(2/total_samples)*(sample_y-y_predicted)\r\n",
    "        \r\n",
    "        w = w - learning_rate * w_grad\r\n",
    "        b = b - learning_rate * b_grad\r\n",
    "        \r\n",
    "        cost = np.square(sample_y-y_predicted)\r\n",
    "        \r\n",
    "        if i%100==0: # at every 100th iteration record the cost and epoch value\r\n",
    "            cost_list.append(cost)\r\n",
    "            epoch_list.append(i)\r\n",
    "        \r\n",
    "    return w, b, cost, cost_list, epoch_list\r\n",
    "\r\n",
    "\r\n",
    "w_sgd, b_sgd, cost_sgd, cost_list_sgd, epoch_list_sgd = stochastic_gradient_descent(scaled_X, scaled_y.reshape(scaled_y.shape[0],), 10000)\r\n",
    "w_sgd, b_sgd, cost_sgd\r\n"
   ]
  },
  {
   "cell_type": "code",
   "execution_count": 16,
   "metadata": {},
   "outputs": [
    {
     "data": {
      "text/plain": [
       "[<matplotlib.lines.Line2D at 0x1db0adfe040>]"
      ]
     },
     "execution_count": 16,
     "metadata": {},
     "output_type": "execute_result"
    },
    {
     "data": {
      "image/png": "[encoded data removed]",
      "text/plain": [
       "<Figure size 432x288 with 1 Axes>"
      ]
     },
     "metadata": {
      "needs_background": "light"
     },
     "output_type": "display_data"
    }
   ],
   "source": [
    "plt.xlabel('epoch')\r\n",
    "plt.ylabel('cost')\r\n",
    "plt.plot(epoch_list_sgd,cost_list_sgd)"
   ]
  },
  {
   "cell_type": "markdown",
   "metadata": {},
   "source": [
    "Batch Gradient Descent Implementation\r\n"
   ]
  },
  {
   "cell_type": "code",
   "execution_count": 17,
   "metadata": {},
   "outputs": [
    {
     "data": {
      "text/plain": [
       "(array([0.71018712, 0.67822471]), -0.2333691160697844, 0.015060383410021352)"
      ]
     },
     "execution_count": 17,
     "metadata": {},
     "output_type": "execute_result"
    }
   ],
   "source": [
    "def mini_batch_gradient_descent(X, y_true, epochs=100, batch_size=5, learning_rate=0.01):\r\n",
    "\r\n",
    "    number_of_features = X.shape[1]\r\n",
    "    # numpy array with 1 row and columns equal to number of features. In\r\n",
    "    # our case number_of_features = 3 (area, bedroom and age)\r\n",
    "    w = np.ones(shape=(number_of_features))\r\n",
    "    b = 0\r\n",
    "    total_samples = X.shape[0]  # number of rows in X\r\n",
    "\r\n",
    "    if batch_size > total_samples:  # In this case mini batch becomes same as batch gradient descent\r\n",
    "        batch_size = total_samples\r\n",
    "\r\n",
    "    cost_list = []\r\n",
    "    epoch_list = []\r\n",
    "\r\n",
    "    num_batches = int(total_samples/batch_size)\r\n",
    "\r\n",
    "    for i in range(epochs):\r\n",
    "        random_indices = np.random.permutation(total_samples)\r\n",
    "        X_tmp = X[random_indices]\r\n",
    "        y_tmp = y_true[random_indices]\r\n",
    "\r\n",
    "        for j in range(0, total_samples, batch_size):\r\n",
    "            Xj = X_tmp[j:j+batch_size]\r\n",
    "            yj = y_tmp[j:j+batch_size]\r\n",
    "            y_predicted = np.dot(w, Xj.T) + b\r\n",
    "\r\n",
    "            w_grad = -(2/len(Xj))*(Xj.T.dot(yj-y_predicted))\r\n",
    "            b_grad = -(2/len(Xj))*np.sum(yj-y_predicted)\r\n",
    "\r\n",
    "            w = w - learning_rate * w_grad\r\n",
    "            b = b - learning_rate * b_grad\r\n",
    "\r\n",
    "            # MSE (Mean Squared Error)\r\n",
    "            cost = np.mean(np.square(yj-y_predicted))\r\n",
    "\r\n",
    "        if i % 10 == 0:\r\n",
    "            cost_list.append(cost)\r\n",
    "            epoch_list.append(i)\r\n",
    "\r\n",
    "    return w, b, cost, cost_list, epoch_list\r\n",
    "\r\n",
    "\r\n",
    "w, b, cost, cost_list, epoch_list = mini_batch_gradient_descent(\r\n",
    "    scaled_X,\r\n",
    "    scaled_y.reshape(scaled_y.shape[0],),\r\n",
    "    epochs=120,\r\n",
    "    batch_size=5\r\n",
    ")\r\n",
    "w, b, cost"
   ]
  },
  {
   "cell_type": "code",
   "execution_count": 18,
   "metadata": {},
   "outputs": [
    {
     "data": {
      "text/plain": [
       "[<matplotlib.lines.Line2D at 0x1db0ae000d0>]"
      ]
     },
     "execution_count": 18,
     "metadata": {},
     "output_type": "execute_result"
    },
    {
     "data": {
      "image/png": "[encoded data removed]",
      "text/plain": [
       "<Figure size 432x288 with 1 Axes>"
      ]
     },
     "metadata": {
      "needs_background": "light"
     },
     "output_type": "display_data"
    }
   ],
   "source": [
    "plt.xlabel(\"epoch\")\r\n",
    "plt.ylabel(\"cost\")\r\n",
    "plt.plot(epoch_list, cost_list)"
   ]
  }
 ],
 "metadata": {
  "interpreter": {
   "hash": "e94dd2023f21a93510fb04e380baf504272aa09c40641b7e8c2a7346f5fbf161"
  },
  "kernelspec": {
   "display_name": "Python 3.9.5 64-bit",
   "name": "python3"
  },
  "language_info": {
   "codemirror_mode": {
    "name": "ipython",
    "version": 3
   },
   "file_extension": ".py",
   "mimetype": "text/x-python",
   "name": "python",
   "nbconvert_exporter": "python",
   "pygments_lexer": "ipython3",
   "version": "3.9.5"
  },
  "orig_nbformat": 4
 },
 "nbformat": 4,
 "nbformat_minor": 2
}